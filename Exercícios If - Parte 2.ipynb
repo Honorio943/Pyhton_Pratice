{
 "cells": [
  {
   "cell_type": "markdown",
   "metadata": {},
   "source": [
    "# Exercícios"
   ]
  },
  {
   "cell_type": "markdown",
   "metadata": {},
   "source": [
    "## 1. Criando um mini sistema de controle de estoque\n",
    "\n",
    "- Crie um sistema para ser usado pelo time de controle de estoque de um centro de distribuição.\n",
    "- Imagine que ao fim de todo dia, o time conta quantas unidades de produto existem no estoque. Se tivermos um estoque abaixo do estoque permitido para aquela categoria do produto, o time deve ser avisado (print) para fazer um novo pedido daquele produto.\n",
    "- Cada categoria de produto tem um estoque mínimo diferente, segundo a regra abaixo:\n",
    "\n",
    "- alimentos -> Estoque mínimo: 50\n",
    "- bebidas -> Estoque mínimo: 75\n",
    "- limpeza -> Estoque mínimo: 30\n",
    "\n",
    "Para isso vamos criar um programa que pede 3 inputs do usuário: nome do produto, categoria e quantidade atual em estoque.\n",
    "\n",
    "Se o produto tiver abaixo do estoque mínimo da categoria dele, o programa deve printar a mensagem \"Solicitar {produto} à equipe de compras, temos apenas {unidades} em estoque\"\n",
    "\n",
    "Exemplo: Se o usuário preenche os inputs com: bebidas, dolly, 90, o programa não deve exibir nenhuma mensagem.<br>\n",
    "Agora, se o usuário preenche os inputs com: bebidas, guaraná, 60, o programa deve exibir a mensagem \"Solicitar guaraná à equipe de compras, temos apenas 60 unidades em estoque.\n",
    "\n",
    "Obs: lembre de usar o int() para transformar o número inserido pelo usuário no input de string para int.<br>\n",
    "Obs2: Caso o usuário não preencha alguma das 3 informações, o programa deve exibir uma mensagem para avisá-lo de preencher corretamente."
   ]
  },
  {
   "cell_type": "code",
   "execution_count": 15,
   "metadata": {},
   "outputs": [
    {
     "name": "stdout",
     "output_type": "stream",
     "text": [
      "Solicitar coca à equipe de compras, pois temos apenas 25 em estoque. Lembre-se que o estoque mínimo é 75.\n"
     ]
    }
   ],
   "source": [
    "#estoque minimo v1.0:\n",
    "\n",
    "alimentos_min = 50\n",
    "bebidas_min = 75\n",
    "limpeza_min = 30\n",
    "\n",
    "produto = input('Qual é o produto que você deseja cadastrar? ').lower()\n",
    "categoria = input('Qual a categoria desse produto? ').lower()\n",
    "qntd = int(input('Qual a quantidade atual do produto? '))\n",
    "\n",
    "if produto and categoria and qntd:\n",
    "    if categoria in \"alimentos\":\n",
    "        if qntd >= alimentos_min:\n",
    "            print(f'Volume mínimo de {produto}respeitado')\n",
    "        else:\n",
    "            print(f\"Solicitar {produto} à equipe de compras, pois temos apenas {qntd} em estoque. Lembre-se que o estoque mínimo é {alimentos_min}.\")\n",
    "    elif categoria in \"bebidas\":\n",
    "        if qntd >= bebidas_min:\n",
    "            print(f'Volume mínimo de {produto}respeitado')\n",
    "        else:\n",
    "            print(f\"Solicitar {produto} à equipe de compras, pois temos apenas {qntd} em estoque. Lembre-se que o estoque mínimo é {bebidas_min}.\")\n",
    "    elif categoria in \"limpeza\":\n",
    "        if qntd >= limpeza_min:\n",
    "            print(f'Volume mínimo de {produto}respeitado')\n",
    "        else:\n",
    "            print(f\"Solicitar {produto} à equipe de compras, pois temos apenas {qntd} em estoque. Lembre-se que o estoque mínimo é {limpeza_min}.\")\n",
    "    else:\n",
    "        print(\"Categoria inválida.\")\n",
    "else:\n",
    "    print(\"Preencha corretamente.\")\n"
   ]
  },
  {
   "cell_type": "code",
   "execution_count": 17,
   "metadata": {},
   "outputs": [
    {
     "name": "stdout",
     "output_type": "stream",
     "text": [
      "Solicitar coca à equipe de compras, pois temos apenas 5 em estoque. Lembre-se que o estoque mínimo é 75.\n"
     ]
    }
   ],
   "source": [
    "#estoque minimo v2.0:\n",
    "\n",
    "alimentos_min = 50\n",
    "bebidas_min = 75\n",
    "limpeza_min = 30\n",
    "\n",
    "produto = input('Qual é o produto que você deseja cadastrar? ').lower()\n",
    "categoria = input('Qual a categoria desse produto? ').lower()\n",
    "qntd = int(input('Qual a quantidade atual do produto? '))\n",
    "\n",
    "if produto and categoria and qntd:\n",
    "    estoque_min = alimentos_min if categoria in \"alimentos\" else bebidas_min if categoria in \"bebidas\" else limpeza_min\n",
    "    \n",
    "    if qntd >= estoque_min:\n",
    "        print(f'Volume mínimo de {produto} respeitado')\n",
    "    else:\n",
    "        print(f\"Solicitar {produto} à equipe de compras, pois temos apenas {qntd} em estoque. Lembre-se que o estoque mínimo é {estoque_min}.\")\n",
    "elif not produto or not categoria or not qntd:\n",
    "    print(\"Preencha corretamente.\")\n"
   ]
  }
 ],
 "metadata": {
  "kernelspec": {
   "display_name": "Python 3",
   "language": "python",
   "name": "python3"
  },
  "language_info": {
   "codemirror_mode": {
    "name": "ipython",
    "version": 3
   },
   "file_extension": ".py",
   "mimetype": "text/x-python",
   "name": "python",
   "nbconvert_exporter": "python",
   "pygments_lexer": "ipython3",
   "version": "3.12.1"
  }
 },
 "nbformat": 4,
 "nbformat_minor": 4
}
